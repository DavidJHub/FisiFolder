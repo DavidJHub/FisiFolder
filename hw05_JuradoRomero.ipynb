{
 "cells": [
  {
   "cell_type": "code",
   "execution_count": 2,
   "metadata": {},
   "outputs": [],
   "source": [
    "import numpy as np\n",
    "import matplotlib.pyplot as plt\n",
    "import progressbar\n",
    "\n",
    "np.set_printoptions(precision=3, suppress=True)"
   ]
  },
  {
   "cell_type": "markdown",
   "metadata": {},
   "source": [
    "## Modelo Físico\n",
    "\n",
    "https://youtu.be/h-b_6a9xwpA"
   ]
  },
  {
   "cell_type": "code",
   "execution_count": 17,
   "metadata": {},
   "outputs": [],
   "source": [
    "# Condiciones de prueba: masas colgando verticalmente sin tensión T2\n",
    "L, L1, L2, L3  = 4, 4, 4, 4  # Longitudes\n",
    "W1, W2         = 10, 20      # Pesos\n",
    "\n",
    "#g=9.81"
   ]
  },
  {
   "cell_type": "code",
   "execution_count": 18,
   "metadata": {},
   "outputs": [],
   "source": [
    "# 1.a (10 puntos)\n",
    "# \n",
    "# Establezca correctamente los valores numéricos de las condiciones\n",
    "# iniciales de prueba para una  configuración de 2 masas colgando \n",
    "# verticalmente con la tensión T2 = 0\n",
    "\n",
    "# Puede trabajar con \n",
    "#    y = [x0,...x8] \n",
    "# o con \n",
    "#    y=[x1, ... , x9] \n",
    "# siguiendo la notación del libro (eq 8.10)\n",
    "\n",
    "x0 = 1.0 #sin(th1)\n",
    "x1 = 0 #sin(th2)\n",
    "x2 = 1 #sin(th3)\n",
    "x3 = 0 #cos(th1)\n",
    "x4 = 1 #cos(th2)\n",
    "x5 = 0 #cos(th3)\n",
    "x6 = W1 #T1\n",
    "x7 = 0 #T2\n",
    "x8 = W2 #T3\n",
    "\n",
    "y = [x0,x1,x2,x3,x4,x5,x6,x7,x8]"
   ]
  },
  {
   "cell_type": "code",
   "execution_count": 19,
   "metadata": {},
   "outputs": [],
   "source": [
    "# 1.b (10 puntos)\n",
    "#\n",
    "# Escriba las nueve funciones f_i(y)\n",
    "def f_0(y):\n",
    "    return L1*y[3]+L2*y[4]+L3*y[5]-L\n",
    "\n",
    "def f_1(y):\n",
    "    return L1*y[0]+L2*y[1]-L3*y[2]\n",
    "    \n",
    "def f_2(y):\n",
    "    return y[6]*y[0]-y[7]*y[1]-W1        # algo con longitudes, senos y cosenos, por ejemplo.\n",
    "\n",
    "def f_3(y):\n",
    "    return y[6]*y[3]-y[7]*y[4]             \n",
    "\n",
    "def f_4(y):\n",
    "    return y[7]*y[1]+y[8]*y[2]-W2       # algo con tensiones, pesos, senos y cosenos, por ejemplo.\n",
    "\n",
    "def f_5(y):\n",
    "    return y[7]*y[4]-y[8]*y[5]\n",
    "\n",
    "def f_6(y):\n",
    "    return y[0]**2+y[3]**2-1\n",
    "\n",
    "def f_7(y):\n",
    "    return y[1]**2+y[4]**2-1\n",
    "\n",
    "def f_8(y):\n",
    "    return y[2]**2+y[5]**2-1"
   ]
  },
  {
   "cell_type": "code",
   "execution_count": 20,
   "metadata": {},
   "outputs": [],
   "source": [
    "# 1.c (10 puntos)\n",
    "#\n",
    "# Escriba una función f_vec(y) que retorne la eq. 8.12\n",
    "\n",
    "def f_vec(y):\n",
    "    return np.array([f_0(y),f_1(y),f_2(y),f_3(y),f_4(y),f_5(y),f_6(y),f_7(y),f_8(y)])"
   ]
  },
  {
   "cell_type": "code",
   "execution_count": 21,
   "metadata": {},
   "outputs": [
    {
     "name": "stdout",
     "output_type": "stream",
     "text": [
      "[0. 0. 0. 0. 0. 0. 0. 0. 0.]\n"
     ]
    }
   ],
   "source": [
    "# 1.d (10 puntos)\n",
    "# \n",
    "# Verifique que con nuestras condiciones de prueba, \n",
    "# (masas colgando verticalmente),\n",
    "# se cumple f_vec(y) = 0\n",
    "\n",
    "print(f_vec(y))"
   ]
  },
  {
   "cell_type": "code",
   "execution_count": 22,
   "metadata": {},
   "outputs": [
    {
     "data": {
      "text/plain": [
       "-4.000000000026205"
      ]
     },
     "execution_count": 22,
     "metadata": {},
     "output_type": "execute_result"
    }
   ],
   "source": [
    "# 1.e (10 puntos)\n",
    "# \n",
    "# implemente la función de derivada parcial para derivar f_i(y) \n",
    "# respecto a x_j, evaluada en y.\n",
    "\n",
    "def derivadaparc(fi,xj,y):\n",
    "    DeltaX_j = 0.00001\n",
    "    newvec=np.copy(y)\n",
    "    for i in range(9):\n",
    "        if i==xj:\n",
    "            newvec[i]=newvec[i]+DeltaX_j\n",
    "    diff=(f_vec(newvec)[fi]-f_vec(y)[fi])/ DeltaX_j \n",
    "    \n",
    "    \n",
    "    \n",
    "    # Otras cosas\n",
    "    return diff # algo muy bonito usando la ecuación 8.18\n",
    "\n",
    "derivadaparc(1,2,y)"
   ]
  },
  {
   "cell_type": "code",
   "execution_count": 23,
   "metadata": {},
   "outputs": [
    {
     "name": "stdout",
     "output_type": "stream",
     "text": [
      "[[ -0.     -0.      0.     -0.     -0.     -0.      0.5     0.     -0.   ]\n",
      " [  0.      0.25    0.      0.      0.      0.     -0.5    -0.      0.5  ]\n",
      " [ -0.     -0.     -0.      0.      0.      0.      0.      0.      0.5  ]\n",
      " [  0.167   0.      0.      0.033   0.      0.033  -0.     -0.333   0.   ]\n",
      " [ -0.     -0.     -0.     -0.     -0.     -0.      0.      0.5    -0.   ]\n",
      " [  0.083   0.      0.     -0.033   0.     -0.033  -0.     -0.167   0.   ]\n",
      " [  0.      0.      1.      0.      0.      0.     -5.     -0.      0.   ]\n",
      " [  1.667   0.      0.     -0.667   0.      0.333  -0.     -3.333   0.   ]\n",
      " [  0.      0.      0.     -0.      1.     -0.     -0.     -0.    -10.   ]]\n"
     ]
    }
   ],
   "source": [
    "# 1.f (10 puntos)\n",
    "# \n",
    "# Usando la función de derivadas, implemente F como sugiere el libro\n",
    "# y calcule el Jacobiano como la inversa de F.\n",
    "def buildjacobian(ynew):\n",
    "    F = np.zeros([9,9])\n",
    "    for i in range(9):\n",
    "        for j in range(9):\n",
    "            F[i,j]=derivadaparc(i,j,ynew)\n",
    "    return (np.linalg.inv(F))\n",
    "        # F[i,j] = derivada parcial de f_i respecto a x_j evaluada en y.\n",
    "print(buildjacobian(y))\n",
    "#=np.linalg.inv(F)\n",
    "#print(jacobiano)"
   ]
  },
  {
   "cell_type": "markdown",
   "metadata": {},
   "source": [
    "$$ \\Delta y = J \\cdot f(y)$$"
   ]
  },
  {
   "cell_type": "code",
   "execution_count": 24,
   "metadata": {},
   "outputs": [
    {
     "name": "stdout",
     "output_type": "stream",
     "text": [
      "[0. 0. 0. 0. 0. 0. 0. 0. 0.]\n"
     ]
    }
   ],
   "source": [
    "# 1.g (10 puntos)\n",
    "#\n",
    "# aquí va el delta y.\n",
    "jacobiano=buildjacobian(y)\n",
    "deltay=np.matmul(-jacobiano,f_vec(y))\n",
    "print(deltay)"
   ]
  },
  {
   "cell_type": "markdown",
   "metadata": {},
   "source": [
    "$$ y_{new}=y+\\Delta y$$"
   ]
  },
  {
   "cell_type": "code",
   "execution_count": 25,
   "metadata": {},
   "outputs": [
    {
     "name": "stdout",
     "output_type": "stream",
     "text": [
      "[ 1.  0.  1.  0.  1.  0. 10.  0. 20.]\n"
     ]
    }
   ],
   "source": [
    "# 1.h (10 puntos)\n",
    "#\n",
    "# Calcule y_new a partir de y y delta y\n",
    "ynew=y+deltay\n",
    "print(ynew)"
   ]
  },
  {
   "cell_type": "code",
   "execution_count": 26,
   "metadata": {},
   "outputs": [],
   "source": [
    "# 1.j (50 puntos si todo funciona bien) \n",
    "#\n",
    "# Escriba una función que realice varias iteraciones\n",
    "# delta y = - Jacobiano * f(y)\n",
    "# y_new = y + delta y\n",
    "# y = y_new\n",
    "# y se detenga cuando el valor absoluto de todos \n",
    "# los nueve elementos de f(y) sean menores que epsilon\n",
    "# Imprima el número de pasos realizados\n",
    "\n",
    "epsilon = 1.e-6\n",
    "\n",
    "def iterate(y):\n",
    "    n=0\n",
    "    bar = progressbar.ProgressBar(max_value=100)\n",
    "    Y=np.copy(y)\n",
    "    #print(Y)\n",
    "    condicion=False\n",
    "    while(condicion==False or n<100):\n",
    "        comparable=np.abs(f_vec(Y))\n",
    "        #print(np.max(comparable))\n",
    "        if np.max(comparable)<epsilon:\n",
    "            condicion=True\n",
    "            break\n",
    "        jacobiano=buildjacobian(Y)\n",
    "        delta_y= np.matmul(-jacobiano,f_vec(Y))\n",
    "        y_new = Y + delta_y\n",
    "        Y=y_new\n",
    "        #print(Y)\n",
    "        n=n+1\n",
    "        bar.update(n)\n",
    "        #print(n)\n",
    "    return(n,y,np.asarray(f_vec(Y)))\n",
    "    "
   ]
  },
  {
   "cell_type": "code",
   "execution_count": 27,
   "metadata": {},
   "outputs": [
    {
     "name": "stderr",
     "output_type": "stream",
     "text": [
      "100% (100 of 100) |######################| Elapsed Time: 0:00:00 ETA:  00:00:00\n"
     ]
    },
    {
     "name": "stdout",
     "output_type": "stream",
     "text": [
      "(0, [1.0, 0, 1, 0, 1, 0, 10, 0, 20], array([0., 0., 0., 0., 0., 0., 0., 0., 0.]))\n"
     ]
    }
   ],
   "source": [
    "print(iterate(y))"
   ]
  },
  {
   "cell_type": "markdown",
   "metadata": {},
   "source": [
    "# Diferentes condiciones iniciales\n"
   ]
  },
  {
   "cell_type": "code",
   "execution_count": 28,
   "metadata": {},
   "outputs": [],
   "source": [
    "L, L1, L2, L3  = 3, 4, 4, 8  # Longitudes\n",
    "W1, W2         = 1, 2      # Pesos\n",
    "\n",
    "#g=9.81\n",
    "\n",
    "\n",
    "x00 = 0.972 #sin(th1)\n",
    "x11 = 0.934 #sin(th2)\n",
    "x22 = 0.54 #sin(th3)\n",
    "x33 = 0.234 #cos(th1)\n",
    "x44 = -0.354#cos(th2)\n",
    "x55 = -0.840 #cos(th3)\n",
    "x66 = W1 #T1\n",
    "x77 = 0 #T2\n",
    "x88 = W2 #T3\n",
    "\n",
    "y2 = [x00,x11,x22,x33,x44,x55,x66,x77,x88]"
   ]
  },
  {
   "cell_type": "code",
   "execution_count": 29,
   "metadata": {},
   "outputs": [
    {
     "data": {
      "text/plain": [
       "array([ 1., -4.,  9.,  0., 18.,  0.,  0.,  0.,  0.])"
      ]
     },
     "execution_count": 29,
     "metadata": {},
     "output_type": "execute_result"
    }
   ],
   "source": [
    "f_vec(y)"
   ]
  },
  {
   "cell_type": "code",
   "execution_count": 30,
   "metadata": {},
   "outputs": [
    {
     "name": "stderr",
     "output_type": "stream",
     "text": [
      "\r",
      "N/A% (0 of 100) |                        | Elapsed Time: 0:00:00 ETA:  --:--:--"
     ]
    },
    {
     "name": "stdout",
     "output_type": "stream",
     "text": [
      "(6, [0.972, 0.934, 0.54, 0.234, -0.354, -0.84, 1, 0, 2], array([ 0.,  0., -0.,  0., -0., -0.,  0.,  0.,  0.]))\n"
     ]
    }
   ],
   "source": [
    "print(iterate(y2))"
   ]
  },
  {
   "cell_type": "code",
   "execution_count": null,
   "metadata": {},
   "outputs": [],
   "source": []
  },
  {
   "cell_type": "code",
   "execution_count": null,
   "metadata": {},
   "outputs": [],
   "source": []
  },
  {
   "cell_type": "code",
   "execution_count": null,
   "metadata": {},
   "outputs": [],
   "source": []
  },
  {
   "cell_type": "code",
   "execution_count": null,
   "metadata": {},
   "outputs": [],
   "source": []
  }
 ],
 "metadata": {
  "kernelspec": {
   "display_name": "Python 3",
   "language": "python",
   "name": "python3"
  },
  "language_info": {
   "codemirror_mode": {
    "name": "ipython",
    "version": 3
   },
   "file_extension": ".py",
   "mimetype": "text/x-python",
   "name": "python",
   "nbconvert_exporter": "python",
   "pygments_lexer": "ipython3",
   "version": "3.7.3"
  }
 },
 "nbformat": 4,
 "nbformat_minor": 2
}
