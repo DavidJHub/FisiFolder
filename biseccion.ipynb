{
 "cells": [
  {
   "cell_type": "code",
   "execution_count": 1,
   "metadata": {},
   "outputs": [],
   "source": [
    "import numpy as np\n",
    "import matplotlib.pyplot as plt\n",
    "import progressbar\n",
    "\n",
    "from scipy import special as spes"
   ]
  },
  {
   "cell_type": "code",
   "execution_count": 2,
   "metadata": {},
   "outputs": [
    {
     "data": {
      "text/plain": [
       "(0, 20)"
      ]
     },
     "execution_count": 2,
     "metadata": {},
     "output_type": "execute_result"
    },
    {
     "data": {
      "image/png": "[encoded data removed]",
      "text/plain": [
       "<Figure size 432x288 with 1 Axes>"
      ]
     },
     "metadata": {
      "needs_background": "light"
     },
     "output_type": "display_data"
    }
   ],
   "source": [
    "x=np.linspace(0,20,100)\n",
    "\n",
    "f = spes.j0\n",
    "\n",
    "plt.plot(x,f(x))\n",
    "plt.axhline(y=0,c=\"k\")\n",
    "plt.grid()\n",
    "plt.xlim(0,20)"
   ]
  },
  {
   "cell_type": "code",
   "execution_count": 3,
   "metadata": {},
   "outputs": [],
   "source": [
    "def biseccion(a,b,tol,f): \n",
    "\n",
    "    ceros=0\n",
    "\n",
    "    while ((b-a)*0.5> tol): \n",
    "        medio = (a+b)*0.5\n",
    "        if (f(medio)<tol and f(medio)>-tol): \n",
    "            ceros=medio\n",
    "        if f(medio)*f(a)<0: \n",
    "            b = medio \n",
    "        if f(medio)*f(a)>0:\n",
    "            a = medio\n",
    "    return ceros"
   ]
  },
  {
   "cell_type": "code",
   "execution_count": 4,
   "metadata": {},
   "outputs": [
    {
     "data": {
      "text/plain": [
       "2.4048423767089844"
      ]
     },
     "execution_count": 4,
     "metadata": {},
     "output_type": "execute_result"
    }
   ],
   "source": [
    "biseccion(0,5,0.00001,f)"
   ]
  },
  {
   "cell_type": "code",
   "execution_count": 6,
   "metadata": {},
   "outputs": [],
   "source": [
    "def assigntol(x,dx):\n",
    "    return x-dx,x+dx\n",
    "\n",
    "def biseccionpro(a,b,tol,f,N):\n",
    "    ceros=[]\n",
    "    \n",
    "    for i in range(N):\n",
    "        \n",
    "        while ((b-a)*0.5> tol): \n",
    "            medio = np.random.uniform(a,b)\n",
    "            print(medio)\n",
    "            if (f(medio)<tol and f(medio)>-tol): \n",
    "                zero=medio\n",
    "                add=True\n",
    "                for j in range(len(ceros)):\n",
    "                    print(zero)\n",
    "                    while add==True:\n",
    "                        if (zero>assigntol(ceros[j],0.1)[0] and zero<assigntol(ceros[j],0.1)[1] ):\n",
    "                            add==False\n",
    "                            break\n",
    "                        ceros.append(zero)\n",
    "                        a=np.random.uniform(a,b)\n",
    "            if f(medio)*f(a)<0: \n",
    "                b = medio \n",
    "            if f(medio)*f(a)>0:\n",
    "                a = medio\n",
    "    return ceros"
   ]
  },
  {
   "cell_type": "code",
   "execution_count": null,
   "metadata": {},
   "outputs": [],
   "source": []
  },
  {
   "cell_type": "code",
   "execution_count": null,
   "metadata": {},
   "outputs": [],
   "source": []
  }
 ],
 "metadata": {
  "kernelspec": {
   "display_name": "Python 3",
   "language": "python",
   "name": "python3"
  },
  "language_info": {
   "codemirror_mode": {
    "name": "ipython",
    "version": 3
   },
   "file_extension": ".py",
   "mimetype": "text/x-python",
   "name": "python",
   "nbconvert_exporter": "python",
   "pygments_lexer": "ipython3",
   "version": "3.7.3"
  }
 },
 "nbformat": 4,
 "nbformat_minor": 2
}
