{
 "cells": [
  {
   "cell_type": "code",
   "execution_count": 1,
   "metadata": {},
   "outputs": [],
   "source": [
    "import pandas as pd\n",
    "import numpy as  np\n",
    "import getpass \n",
    "import sys"
   ]
  },
  {
   "cell_type": "code",
   "execution_count": 2,
   "metadata": {},
   "outputs": [],
   "source": [
    "class password:\n",
    "    def __init__(self,lenght0,AStype0,account0):\n",
    "        self.lenght=lenght0\n",
    "        self.AStype=AStype0\n",
    "        self.account=account0\n"
   ]
  },
  {
   "cell_type": "code",
   "execution_count": 3,
   "metadata": {},
   "outputs": [],
   "source": [
    "class textfile:\n",
    "    def __init__(self,directory,name):\n",
    "        self.x=x0\n",
    "        self.y=y0\n",
    "        self.nodes=nodes0\n",
    "        self.pob=pop0\n",
    "        self.sus=sus0"
   ]
  },
  {
   "cell_type": "code",
   "execution_count": 7,
   "metadata": {},
   "outputs": [],
   "source": [
    "def exe():\n",
    "    user = getpass.getuser() \n",
    "    print(\"Welcome to password key personal service, please write your PIN to continue\")\n",
    "    while True: \n",
    "        pwd = getpass.getpass(\"User Name : %s\" % user) \n",
    "\n",
    "        if pwd == '2250': \n",
    "            \n",
    "            break\n",
    "        else: \n",
    "            print (\"The password you entered is incorrect.\")\n",
    "    #password=input(\">>\")\n",
    "    #if password==password.PIN()\n",
    "    mainmenu()"
   ]
  },
  {
   "cell_type": "code",
   "execution_count": 8,
   "metadata": {},
   "outputs": [
    {
     "name": "stdout",
     "output_type": "stream",
     "text": [
      "Welcome to password key personal service, please write your PIN to continue\n",
      "User Name : david········\n",
      "User Name : david\n",
      "Main menu\n",
      "Please refer to one of the following options\n",
      "                                             Options\n",
      "0   Check login/password for a specific account o...\n",
      "1            Generate new pwd for a specific service\n",
      "2                             Modify an existing pwd\n",
      "1\n"
     ]
    }
   ],
   "source": [
    "exe()"
   ]
  },
  {
   "cell_type": "code",
   "execution_count": 5,
   "metadata": {},
   "outputs": [],
   "source": [
    "def mainmenu():\n",
    "    user = getpass.getuser()\n",
    "    options={\"Options\":[\" Check login/password for a specific account or service\", \"Generate new pwd for a specific service\",\" Modify an existing pwd\"] }\n",
    "    print(\"User Name : %s\" % user)\n",
    "    print(\"Main menu\")\n",
    "    print(\"Please refer to one of the following options\")\n",
    "    print(pd.DataFrame(options))\n",
    "    newoption=input()\n",
    "\n",
    "\n",
    "  \n",
    "    \n"
   ]
  },
  {
   "cell_type": "code",
   "execution_count": 6,
   "metadata": {},
   "outputs": [
    {
     "name": "stdout",
     "output_type": "stream",
     "text": [
      "User Name : david\n",
      "Main menu\n",
      "Please refer to one of the following options\n",
      "                                             Options\n",
      "0   Check login/password for a specific account o...\n",
      "1            Generate new pwd for a specific service\n",
      "2                             Modify an existing pwd\n",
      "3\n"
     ]
    }
   ],
   "source": [
    "mainmenu()"
   ]
  },
  {
   "cell_type": "code",
   "execution_count": null,
   "metadata": {},
   "outputs": [],
   "source": []
  }
 ],
 "metadata": {
  "kernelspec": {
   "display_name": "Python 3",
   "language": "python",
   "name": "python3"
  },
  "language_info": {
   "codemirror_mode": {
    "name": "ipython",
    "version": 3
   },
   "file_extension": ".py",
   "mimetype": "text/x-python",
   "name": "python",
   "nbconvert_exporter": "python",
   "pygments_lexer": "ipython3",
   "version": "3.7.3"
  }
 },
 "nbformat": 4,
 "nbformat_minor": 2
}
