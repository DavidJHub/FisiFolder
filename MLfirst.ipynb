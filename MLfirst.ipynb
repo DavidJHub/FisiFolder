{
 "cells": [
  {
   "cell_type": "code",
   "execution_count": 3,
   "metadata": {},
   "outputs": [
    {
     "name": "stdout",
     "output_type": "stream",
     "text": [
      "Downloading training set\n",
      "Downloading training labels\n",
      "Downloading test set\n",
      "Downloading test labels\n",
      "Done!\n"
     ]
    }
   ],
   "source": [
    "import sys; import os\n",
    "\n",
    "import numpy as np\n",
    "np.seterr(all='raise')\n",
    "np.random.seed(13)\n",
    "import pandas as pd\n",
    "\n",
    "import seaborn as sns; sns.set()\n",
    "import matplotlib as mpl\n",
    "import matplotlib.pyplot as plt\n",
    "# mpl.rc('text', usetex=True)\n",
    "%matplotlib inline\n",
    "\n",
    "import pylab\n",
    "import scipy as sp\n",
    "from scipy.optimize import minimize\n",
    "from sklearn.decomposition import PCA\n",
    "\n",
    "import urllib.request\n",
    "import gzip\n",
    "import struct\n",
    "\n",
    "if not os.path.exists('dataset'):\n",
    "    os.makedirs('dataset')\n",
    "DATADIR='dataset'\n",
    "\n",
    "print('Downloading training set')\n",
    "fname = DATADIR+'/train.gz'\n",
    "if not (os.path.exists(fname) and os.path.isfile(fname)):\n",
    "    urllib.request.urlretrieve('http://yann.lecun.com/exdb/mnist/train-images-idx3-ubyte.gz',fname)\n",
    "print('Downloading training labels')\n",
    "fname = DATADIR+'/train-labels.gz'\n",
    "if not (os.path.exists(fname) and os.path.isfile(fname)):\n",
    "    urllib.request.urlretrieve('http://yann.lecun.com/exdb/mnist/train-labels-idx1-ubyte.gz',fname)\n",
    "print('Downloading test set')\n",
    "fname = DATADIR+'/test.gz'\n",
    "if not (os.path.exists(fname) and os.path.isfile(fname)):\n",
    "    urllib.request.urlretrieve('http://yann.lecun.com/exdb/mnist/t10k-images-idx3-ubyte.gz',fname)\n",
    "print('Downloading test labels')\n",
    "fname = DATADIR+'/test-labels.gz'\n",
    "if not (os.path.exists(fname) and os.path.isfile(fname)):\n",
    "    urllib.request.urlretrieve('http://yann.lecun.com/exdb/mnist/t10k-labels-idx1-ubyte.gz',fname)\n",
    "print('Done!')\n",
    "\n",
    "# Esta función es una adaptación de la clase MNIST de la librería \"python-mnist\"\n",
    "# que la encuentran en el siguiente vínculo: https://github.com/sorki/python-mnist\n",
    "def loadSet(s='train'):\n",
    "    from array import array\n",
    "    with gzip.open('data/'+s+'-labels.gz', 'rb') as file:\n",
    "        magic, size = struct.unpack(\">II\", file.read(8))\n",
    "        if magic != 2049:\n",
    "            raise ValueError('Magic number mismatch, expected 2049,'\n",
    "                             'got {}'.format(magic))\n",
    "        labels = np.array(array(\"B\", file.read()))\n",
    "\n",
    "    with gzip.open('data/'+s+'.gz', 'rb') as file:\n",
    "        magic, size, rows, cols = struct.unpack(\">IIII\", file.read(16))\n",
    "        if magic != 2051:\n",
    "            raise ValueError('Magic number mismatch, expected 2051,'\n",
    "                             'got {}'.format(magic))\n",
    "        image_data = array(\"B\", file.read())\n",
    "        images = np.zeros((size,rows*cols),dtype=np.uint8)\n",
    "        for i in range(size):\n",
    "            images[i][:] = image_data[i * rows * cols:(i + 1) * rows * cols]\n",
    "    del array\n",
    "    del sys.modules['array']\n",
    "    return {\n",
    "        'data':images,'target':labels,\n",
    "        'target_names': np.unique(labels),\n",
    "        # 'images': np.reshape(images,(size,rows,cols))\n",
    "    }\n",
    "MNIST_train = loadSet('train')"
   ]
  },
  {
   "cell_type": "code",
   "execution_count": 9,
   "metadata": {},
   "outputs": [
    {
     "name": "stdout",
     "output_type": "stream",
     "text": [
      "El elemento 13 del conjunto de datos corresponde al número: 6\n"
     ]
    },
    {
     "data": {
      "text/plain": [
       "<Figure size 432x288 with 0 Axes>"
      ]
     },
     "metadata": {},
     "output_type": "display_data"
    },
    {
     "data": {
      "image/png": "[encoded data removed]",
      "text/plain": [
       "<Figure size 288x288 with 1 Axes>"
      ]
     },
     "metadata": {
      "needs_background": "light"
     },
     "output_type": "display_data"
    }
   ],
   "source": [
    "def display(dat):\n",
    "    plt.gray()\n",
    "    print(\"El elemento \" + str(dat)+\" del conjunto de datos corresponde al número:\",MNIST_train['target'][dat])\n",
    "    plt.matshow(np.reshape(MNIST_train['data'][dat],(28,28)))\n",
    "    plt.show()\n",
    "display(13)"
   ]
  },
  {
   "cell_type": "code",
   "execution_count": 21,
   "metadata": {},
   "outputs": [],
   "source": [
    "def verifytag(digit):\n",
    "    n_dig= np.sum(np.sum(MNIST_train['target'] == digit))\n",
    "    n_ft=MNIST_train['data'].shape[1]\n",
    "    redefTarget = lambda x,y: 1 if x==y else 0\n",
    "    redefTarget = np.vectorize(redefTarget,excluded=(1,))\n",
    "    MNIST_train['target_new'] = redefTarget(MNIST_train['target'],digit)\n",
    "    print(\"Verificamos\")\n",
    "    print(\"\\t¿cuántos con %d? %d\"%(digit,n_dig))\n",
    "    print(\"\\t¿la suma de 'target_new'? %d\"%np.sum(MNIST_train['target_new']))"
   ]
  },
  {
   "cell_type": "code",
   "execution_count": 23,
   "metadata": {},
   "outputs": [
    {
     "name": "stdout",
     "output_type": "stream",
     "text": [
      "Verificamos\n",
      "\t¿cuántos con 4? 5842\n",
      "\t¿la suma de 'target_new'? 5842\n"
     ]
    }
   ],
   "source": [
    "verifytag(4)"
   ]
  },
  {
   "cell_type": "code",
   "execution_count": null,
   "metadata": {},
   "outputs": [],
   "source": []
  },
  {
   "cell_type": "code",
   "execution_count": null,
   "metadata": {},
   "outputs": [],
   "source": []
  }
 ],
 "metadata": {
  "kernelspec": {
   "display_name": "Python 3",
   "language": "python",
   "name": "python3"
  },
  "language_info": {
   "codemirror_mode": {
    "name": "ipython",
    "version": 3
   },
   "file_extension": ".py",
   "mimetype": "text/x-python",
   "name": "python",
   "nbconvert_exporter": "python",
   "pygments_lexer": "ipython3",
   "version": "3.7.3"
  }
 },
 "nbformat": 4,
 "nbformat_minor": 2
}
